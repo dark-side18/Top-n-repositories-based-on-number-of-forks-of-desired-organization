{
 "cells": [
  {
   "cell_type": "code",
   "execution_count": 30,
   "metadata": {
    "scrolled": false
   },
   "outputs": [
    {
     "name": "stdout",
     "output_type": "stream",
     "text": [
      "Number of repositories(n): 6\n",
      "Organization: google\n",
      "username: gabrielecirulli/2048 :: fork count:  15761\n",
      "username: protocolbuffers/protobuf :: fork count:  10946\n",
      "username: google/styleguide :: fork count:  8593\n",
      "username: google/material-design-icons :: fork count:  8192\n",
      "username: google/guava :: fork count:  8167\n",
      "username: kelthuzadx/hosts :: fork count:  8128\n"
     ]
    }
   ],
   "source": [
    "n=int(input(\"Number of repositories(n): \"))\n",
    "s=str(input(\"Organization: \"))\n",
    "t=\"https://api.github.com/search/repositories?q=\"\n",
    "u=\"&sort=forks&order=desc\"\n",
    "s=t+s+u;\n",
    "import urllib.request, json \n",
    "with urllib.request.urlopen(s) as url:\n",
    "    data = json.loads(url.read().decode())\n",
    "forks=data['items']\n",
    "len(forks)\n",
    "cnt=int(0);\n",
    "for x in forks:\n",
    "    if(cnt<n):\n",
    "        cnt=cnt+int(1);\n",
    "        print(\"username:\",x['full_name'],\"::\",\"fork count: \",x['forks'],sep=\" \")"
   ]
  },
  {
   "cell_type": "code",
   "execution_count": 31,
   "metadata": {},
   "outputs": [
    {
     "name": "stdout",
     "output_type": "stream",
     "text": [
      "Number of repositories(n): 6\n",
      "Organization: microsoft\n",
      "username: microsoft/vscode :: fork count:  14330\n",
      "username: MicrosoftDocs/azure-docs :: fork count:  9405\n",
      "username: dotnet/corefx :: fork count:  5456\n",
      "username: fighting41love/funNLP :: fork count:  5344\n",
      "username: MicrosoftDocs/mslearn-tailspin-spacegame-web :: fork count:  5759\n",
      "username: microsoft/sql-server-samples :: fork count:  4481\n"
     ]
    }
   ],
   "source": [
    "n=int(input(\"Number of repositories(n): \"))\n",
    "s=str(input(\"Organization: \"))\n",
    "t=\"https://api.github.com/search/repositories?q=\"\n",
    "u=\"&sort=forks&order=desc\"\n",
    "s=t+s+u;\n",
    "import urllib.request, json \n",
    "with urllib.request.urlopen(s) as url:\n",
    "    data = json.loads(url.read().decode())\n",
    "forks=data['items']\n",
    "len(forks)\n",
    "cnt=int(0);\n",
    "for x in forks:\n",
    "    if(cnt<n):\n",
    "        cnt=cnt+int(1);\n",
    "        print(\"username:\",x['full_name'],\"::\",\"fork count: \",x['forks'],sep=\" \")"
   ]
  },
  {
   "cell_type": "code",
   "execution_count": 32,
   "metadata": {},
   "outputs": [
    {
     "name": "stdout",
     "output_type": "stream",
     "text": [
      "Number of repositories(n): 10\n",
      "Organization: amazon\n",
      "username: fighting41love/funNLP :: fork count:  5344\n",
      "username: davideuler/architecture.of.internet-product :: fork count:  3903\n",
      "username: aws-samples/aws-codepipeline-s3-codedeploy-linux :: fork count:  2901\n",
      "username: open-guides/og-aws :: fork count:  2467\n",
      "username: awslabs/amazon-sagemaker-examples :: fork count:  2455\n",
      "username: aws/aws-sdk-java :: fork count:  2443\n",
      "username: aws-samples/ecs-demo-php-simple-app :: fork count:  2372\n",
      "username: boto/boto :: fork count:  2308\n",
      "username: aws/aws-cli :: fork count:  2135\n",
      "username: minio/minio :: fork count:  2076\n"
     ]
    }
   ],
   "source": [
    "n=int(input(\"Number of repositories(n): \"))\n",
    "s=str(input(\"Organization: \"))\n",
    "t=\"https://api.github.com/search/repositories?q=\"\n",
    "u=\"&sort=forks&order=desc\"\n",
    "s=t+s+u;\n",
    "import urllib.request, json \n",
    "with urllib.request.urlopen(s) as url:\n",
    "    data = json.loads(url.read().decode())\n",
    "forks=data['items']\n",
    "len(forks)\n",
    "cnt=int(0);\n",
    "for x in forks:\n",
    "    if(cnt<n):\n",
    "        cnt=cnt+int(1);\n",
    "        print(\"username:\",x['full_name'],\"::\",\"fork count: \",x['forks'],sep=\" \")"
   ]
  },
  {
   "cell_type": "code",
   "execution_count": 33,
   "metadata": {},
   "outputs": [
    {
     "name": "stdout",
     "output_type": "stream",
     "text": [
      "Number of repositories(n): 7\n",
      "Organization: uber\n",
      "username: horovod/horovod :: fork count:  1379\n",
      "username: uber/deck.gl :: fork count:  1282\n",
      "username: uber/react-map-gl :: fork count:  806\n",
      "username: ro31337/libretaxi :: fork count:  790\n",
      "username: uber/react-vis :: fork count:  737\n",
      "username: uber-go/guide :: fork count:  615\n",
      "username: toddwschneider/nyc-taxi-data :: fork count:  501\n"
     ]
    }
   ],
   "source": [
    "n=int(input(\"Number of repositories(n): \"))\n",
    "s=str(input(\"Organization: \"))\n",
    "t=\"https://api.github.com/search/repositories?q=\"\n",
    "u=\"&sort=forks&order=desc\"\n",
    "s=t+s+u;\n",
    "import urllib.request, json \n",
    "with urllib.request.urlopen(s) as url:\n",
    "    data = json.loads(url.read().decode())\n",
    "forks=data['items']\n",
    "len(forks)\n",
    "cnt=int(0);\n",
    "for x in forks:\n",
    "    if(cnt<n):\n",
    "        cnt=cnt+int(1);\n",
    "        print(\"username:\",x['full_name'],\"::\",\"fork count: \",x['forks'],sep=\" \")"
   ]
  },
  {
   "cell_type": "code",
   "execution_count": null,
   "metadata": {},
   "outputs": [],
   "source": []
  }
 ],
 "metadata": {
  "kernelspec": {
   "display_name": "Python 3",
   "language": "python",
   "name": "python3"
  },
  "language_info": {
   "codemirror_mode": {
    "name": "ipython",
    "version": 3
   },
   "file_extension": ".py",
   "mimetype": "text/x-python",
   "name": "python",
   "nbconvert_exporter": "python",
   "pygments_lexer": "ipython3",
   "version": "3.7.3"
  }
 },
 "nbformat": 4,
 "nbformat_minor": 2
}
